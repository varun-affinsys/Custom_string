{
 "cells": [
  {
   "cell_type": "code",
   "execution_count": 73,
   "id": "9f236d29",
   "metadata": {},
   "outputs": [
    {
     "name": "stdout",
     "output_type": "stream",
     "text": [
      "['8Swj iu mJ EJDYIJ', \"United Arab'Emirates\", 'Identity Card', 'ID Number', '784-1989-0832047-0', 'mMin', 'NameRashed Saeed Khalaf Jumaia', 'Alkaabi', 'MeLyi', 'NationalityUnited Arab Emirates']\n"
     ]
    }
   ],
   "source": [
    "f_1 = ['8Swj iu mJ EJDYIJ', \"United Arab'Emirates\", 'Identity Card', 'ID Number', '784-1989-0832047-0', 'mMin', 'NameRashed Saeed Khalaf Jumaia', 'Alkaabi', 'MeLyi', 'NationalityUnited Arab Emirates']\n",
    "print(f_1)"
   ]
  },
  {
   "cell_type": "code",
   "execution_count": 74,
   "id": "f1a73071",
   "metadata": {},
   "outputs": [
    {
     "name": "stdout",
     "output_type": "stream",
     "text": [
      "['Sex:Mys', 'Date of Birth 14/05/1989', 'Jeial', 'Signature7cExpiry Date/gLaayL', 'Card Number/ULAk', '083231904', '03/05/2022', '140588/01', '4', '1377', 'aILA', '0940003F92031375', 'If you find this card,please return it to the issuing', 'organization or to the nearestpolice station', 'IDARE0832319048784198908320470', '8905145M2205038ARE<<<<<<<<<<<2', 'ALKAABI<<RASHED<SAEED<KHALAF<J']\n"
     ]
    }
   ],
   "source": [
    "b_1 = ['Sex:Mys', 'Date of Birth 14/05/1989', 'Jeial', 'Signature7cExpiry Date/gLaayL', 'Card Number/ULAk', '083231904', '03/05/2022', '140588/01', '4', '1377', 'aILA', '0940003F92031375', 'If you find this card,please return it to the issuing', 'organization or to the nearestpolice station', 'IDARE0832319048784198908320470', '8905145M2205038ARE<<<<<<<<<<<2', 'ALKAABI<<RASHED<SAEED<KHALAF<J']\n",
    "print(b_1)"
   ]
  },
  {
   "cell_type": "code",
   "execution_count": 75,
   "id": "c5e79a59",
   "metadata": {},
   "outputs": [
    {
     "name": "stdout",
     "output_type": "stream",
     "text": [
      "['8uwJl LujaJl Ef DYT Trs', 'United ArabEmirates', 'Aiads I3Ua', 'Resident ldentityCard', 'ID Number', '784-1994-5972751-9', 'AAssiHieaLiuaiais', 'Name:Hossam Omar Ibrahim Mostafa', 'Bakir', '2uia', 'NationalityEgyp']\n"
     ]
    }
   ],
   "source": [
    "f_2 = ['8uwJl LujaJl Ef DYT Trs', 'United ArabEmirates', 'Aiads I3Ua', 'Resident ldentityCard', 'ID Number', '784-1994-5972751-9', 'AAssiHieaLiuaiais', 'Name:Hossam Omar Ibrahim Mostafa', 'Bakir', '2uia', 'NationalityEgyp']\n",
    "print(f_2)"
   ]
  },
  {
   "cell_type": "code",
   "execution_count": 76,
   "id": "f43959dc",
   "metadata": {},
   "outputs": [
    {
     "name": "stdout",
     "output_type": "stream",
     "text": [
      "['IFwpwn: 5S~ IWN :xoS', 'Date of Birth 18/07/19948J', 'Expiry Date/gy', 'Signature/2', 'Card Numberf Ua', 'SL', '12/05/2021', '089043983', '4', '6x043083', '152006/01', 'JJI gl LAa', 'lf you find this cardplase', '0C80006D38EC1375', 'return it to the issuing', 'organization or to the', 'nearestpolice station.', 'ILARE0890439838784199459727519', '9407185M2105127EGY<<<<<<<<<<<5', 'BAKIR<<HOSSAM<OMAR<IBRAHIM<MOS']\n"
     ]
    }
   ],
   "source": [
    "b_2 = ['IFwpwn: 5S~ IWN :xoS', 'Date of Birth 18/07/19948J', 'Expiry Date/gy', 'Signature/2', 'Card Numberf Ua', 'SL', '12/05/2021', '089043983', '4', '6x043083', '152006/01', 'JJI gl LAa', 'lf you find this cardplase', '0C80006D38EC1375', 'return it to the issuing', 'organization or to the', 'nearestpolice station.', 'ILARE0890439838784199459727519', '9407185M2105127EGY<<<<<<<<<<<5', 'BAKIR<<HOSSAM<OMAR<IBRAHIM<MOS']\n",
    "print(b_2)"
   ]
  },
  {
   "cell_type": "code",
   "execution_count": 77,
   "id": "6055e506",
   "metadata": {},
   "outputs": [
    {
     "name": "stdout",
     "output_type": "stream",
     "text": [
      "['Unlted Arab Emlrates', 'RCamd', '7841263-0496-400-7', 'denAHrom', 'Na']\n"
     ]
    }
   ],
   "source": [
    "f_3 = ['Unlted Arab Emlrates', 'RCamd', '7841263-0496-400-7', 'denAHrom', 'Na']\n",
    "print(f_3)"
   ]
  },
  {
   "cell_type": "code",
   "execution_count": 78,
   "id": "1667cfe0",
   "metadata": {},
   "outputs": [
    {
     "name": "stdout",
     "output_type": "stream",
     "text": [
      "['09/2021', '09088', 'IEOSPE/01', '00099J137', 'ILARE0209528069784198304954807', '8309145M2109181FRA<<<<<<<<<<<5', 'ATROUS<<ABDELKARIM<<<<<<<<<<<<']\n"
     ]
    }
   ],
   "source": [
    "b_3 = ['09/2021', '09088', 'IEOSPE/01', '00099J137', 'ILARE0209528069784198304954807', '8309145M2109181FRA<<<<<<<<<<<5', 'ATROUS<<ABDELKARIM<<<<<<<<<<<<']\n",
    "print(b_3)"
   ]
  },
  {
   "cell_type": "code",
   "execution_count": 79,
   "id": "c69cd0c1",
   "metadata": {},
   "outputs": [
    {
     "name": "stdout",
     "output_type": "stream",
     "text": [
      "['Name:Khalid Ali Saleh', 'NationalityUnited Arab Emirates', 'United Arab Emirates', 'Almulla Alyassi', 'Identity Card', 'B4Ail i al csyLsyi:', 'IKw:FF q5 m2 m', '784-1982-8193273-5', '8SSJ iy J Cf LyL 1y', 'is ZaUa']\n"
     ]
    }
   ],
   "source": [
    "f_4 = ['Name:Khalid Ali Saleh', 'NationalityUnited Arab Emirates', 'United Arab Emirates', 'Almulla Alyassi', 'Identity Card', 'B4Ail i al csyLsyi:', 'IKw:FF q5 m2 m', '784-1982-8193273-5', '8SSJ iy J Cf LyL 1y', 'is ZaUa']\n",
    "print(f_4)"
   ]
  },
  {
   "cell_type": "code",
   "execution_count": 80,
   "id": "b55e0670",
   "metadata": {},
   "outputs": [
    {
     "name": "stdout",
     "output_type": "stream",
     "text": [
      "['SexMysi', 'Date of Birth 27/03/19826JY', '26/09/2027', '085446894', '2703350/01', 'JILacLylsL', 'jigl Lf', 'If you find this cardplsreu it to the lssuing', '0A00027C99D4137', 'organization or to the nearest police station.', 'IDARE0854468942784198281932735', '8203276M2709260AREX<<<<<<<<<<1', 'ALMULLAXALYASSIKXKHALID<ALISA']\n"
     ]
    }
   ],
   "source": [
    "b_4 = ['SexMysi', 'Date of Birth 27/03/19826JY', '26/09/2027', '085446894', '2703350/01', 'JILacLylsL', 'jigl Lf', 'If you find this cardplsreu it to the lssuing', '0A00027C99D4137', 'organization or to the nearest police station.', 'IDARE0854468942784198281932735', '8203276M2709260AREX<<<<<<<<<<1', 'ALMULLAXALYASSIKXKHALID<ALISA']\n",
    "print(b_4)"
   ]
  },
  {
   "cell_type": "code",
   "execution_count": 81,
   "id": "2e65883b",
   "metadata": {},
   "outputs": [
    {
     "name": "stdout",
     "output_type": "stream",
     "text": [
      "['United Arab Emirates', 'Baaadl is l elyli', 'Residentldentity Card', 'IDNumber/', '784-1961-0383869-2', 'Saa juialluesuay', 'Name:Ziad Abdulaziz Nakchou', 'NationalitySyrian Arab Republic']\n"
     ]
    }
   ],
   "source": [
    "f_5 = ['United Arab Emirates', 'Baaadl is l elyli', 'Residentldentity Card', 'IDNumber/', '784-1961-0383869-2', 'Saa juialluesuay', 'Name:Ziad Abdulaziz Nakchou', 'NationalitySyrian Arab Republic']\n",
    "print(f_5)"
   ]
  },
  {
   "cell_type": "code",
   "execution_count": 82,
   "id": "09fd0c14",
   "metadata": {},
   "outputs": [
    {
     "name": "stdout",
     "output_type": "stream",
     "text": [
      "['Sex:M ySj :cuiaJ|', 'Date of Birth 07/02/1961', 'Signature/Expiry Date/gleiyl', 'Card Number', '25/11/2020', '091963000', '157700/01', '8G!L8', 'RN', 'JIgi L1', '0F000034BDDC1376', 'If you find this cardplease return it to the issuing', 'organization or to the nearest police station.', 'ILARE0919630002784196103838692', '6102076M2011253SYR<<<<<<<<<<<5', 'NAKCHOU<<ZIAD<ABDULAZIZ<<<<<<<']\n"
     ]
    }
   ],
   "source": [
    "b_5 = ['Sex:M ySj :cuiaJ|', 'Date of Birth 07/02/1961', 'Signature/Expiry Date/gleiyl', 'Card Number', '25/11/2020', '091963000', '157700/01', '8G!L8', 'RN', 'JIgi L1', '0F000034BDDC1376', 'If you find this cardplease return it to the issuing', 'organization or to the nearest police station.', 'ILARE0919630002784196103838692', '6102076M2011253SYR<<<<<<<<<<<5', 'NAKCHOU<<ZIAD<ABDULAZIZ<<<<<<<']\n",
    "print(b_5)"
   ]
  },
  {
   "cell_type": "code",
   "execution_count": 83,
   "id": "d7eee1f6",
   "metadata": {},
   "outputs": [
    {
     "name": "stdout",
     "output_type": "stream",
     "text": [
      "['United Arab Emirates', 'ResidentIdentityCard', 'IDNumber/', '784-1985-6420764-9', 'laii iaasisg iannco', 'Name:MohdWalid Mohd Al Bitai', 'Nationality:Jordan']\n"
     ]
    }
   ],
   "source": [
    "f_6 = ['United Arab Emirates', 'ResidentIdentityCard', 'IDNumber/', '784-1985-6420764-9', 'laii iaasisg iannco', 'Name:MohdWalid Mohd Al Bitai', 'Nationality:Jordan']\n",
    "print(f_6)"
   ]
  },
  {
   "cell_type": "code",
   "execution_count": 84,
   "id": "9341f23c",
   "metadata": {},
   "outputs": [
    {
     "name": "stdout",
     "output_type": "stream",
     "text": [
      "['Sex:MySj', 'Date of Birth 16/06/1985', 'Signature7Expiry Date/ely', 'Card Number', '092713335', '16/01/2022', '13+11 4g011110L', '159177/01', 'La1.so', 'Iyoutind thia card', 'tutotheung', 'OF8000A33FA11376', 'organization or to tho noiroat pollcostation', 'ILARE0927133359784198564207649', '8506162M2201166JOR<<<<<<<<<<<0', 'AL<BITAR<<MOHD<WALID<MOHD<<<<<', 'PhotoScanby GooglePhotos']\n"
     ]
    }
   ],
   "source": [
    "b_6 = ['Sex:MySj', 'Date of Birth 16/06/1985', 'Signature7Expiry Date/ely', 'Card Number', '092713335', '16/01/2022', '13+11 4g011110L', '159177/01', 'La1.so', 'Iyoutind thia card', 'tutotheung', 'OF8000A33FA11376', 'organization or to tho noiroat pollcostation', 'ILARE0927133359784198564207649', '8506162M2201166JOR<<<<<<<<<<<0', 'AL<BITAR<<MOHD<WALID<MOHD<<<<<', 'PhotoScanby GooglePhotos']\n",
    "print(b_6)"
   ]
  },
  {
   "cell_type": "code",
   "execution_count": 85,
   "id": "41e36548",
   "metadata": {},
   "outputs": [
    {
     "name": "stdout",
     "output_type": "stream",
     "text": [
      "['enter', '3T', '2', 'T shift', 'pg dn', 'end', 'enter', 'del', 'ins', 'fintel', 'COREi3', 'inside', 'United Arab Emirates', 'Residentldentity Card', 'ID Number', '784-1979-9431921-4', 'km:1 omFrowirs', 'Name:Nail Othrian Noor Mohamed', 'Abobakr', 'Nationality:Yemen']\n"
     ]
    }
   ],
   "source": [
    "f_7 = ['enter', '3T', '2', 'T shift', 'pg dn', 'end', 'enter', 'del', 'ins', 'fintel', 'COREi3', 'inside', 'United Arab Emirates', 'Residentldentity Card', 'ID Number', '784-1979-9431921-4', 'km:1 omFrowirs', 'Name:Nail Othrian Noor Mohamed', 'Abobakr', 'Nationality:Yemen']\n",
    "print(f_7)"
   ]
  },
  {
   "cell_type": "code",
   "execution_count": 86,
   "id": "c2835a73",
   "metadata": {},
   "outputs": [
    {
     "name": "stdout",
     "output_type": "stream",
     "text": [
      "['7 v', 'v8', '91', 'home', 'pg up', '5', 'enter', '6', '4', '2', 'oause', '3Y', 'T shift', '2', '1', 'end', 'pg dn', 'en', 'del', 'ins', 'inte', 'Date of Birth  15/12/1979 8Jy il c', 'CORE', 'Sex: M _Sj :C+iJl', 'insid', '/cLLYHi', 'E0', 'Card Number', 'Expiry Date', 'Signature', '092163539', '10/12/2020', '158096/01', 'lf you find this card,plase returit to the issuing', 'organization or to the nearestpolice station.', '0F00008B899C1376', 'ILARE0921635390784197994319214', '7912159M2012102YEM<<<<<<<<<<<2', 'ABOBAKR<<NAIL<OTHMANNOORMOHA']\n"
     ]
    }
   ],
   "source": [
    "b_7 = ['7 v', 'v8', '91', 'home', 'pg up', '5', 'enter', '6', '4', '2', 'oause', '3Y', 'T shift', '2', '1', 'end', 'pg dn', 'en', 'del', 'ins', 'inte', 'Date of Birth  15/12/1979 8Jy il c', 'CORE', 'Sex: M _Sj :C+iJl', 'insid', '/cLLYHi', 'E0', 'Card Number', 'Expiry Date', 'Signature', '092163539', '10/12/2020', '158096/01', 'lf you find this card,plase returit to the issuing', 'organization or to the nearestpolice station.', '0F00008B899C1376', 'ILARE0921635390784197994319214', '7912159M2012102YEM<<<<<<<<<<<2', 'ABOBAKR<<NAIL<OTHMANNOORMOHA']\n",
    "print(b_7)"
   ]
  },
  {
   "cell_type": "code",
   "execution_count": 87,
   "id": "645fb8c9",
   "metadata": {},
   "outputs": [
    {
     "name": "stdout",
     "output_type": "stream",
     "text": [
      "['8SSJl iu yJ Cd LYl 1p', 'United Arab Emirates', 'ge ZiUay', 'ldentity Card', 'ID Number/', '784-1975-3726976-9', 'IKm: o*ly q9 vwwr vsm9 MmmF', 'NameAbdulla Ali Mohammed Mehdi', 'Al Shamsi', '3n2al i s csLayi:', 'NationalityUnited Arab Emirates']\n"
     ]
    }
   ],
   "source": [
    "f_8 = ['8SSJl iu yJ Cd LYl 1p', 'United Arab Emirates', 'ge ZiUay', 'ldentity Card', 'ID Number/', '784-1975-3726976-9', 'IKm: o*ly q9 vwwr vsm9 MmmF', 'NameAbdulla Ali Mohammed Mehdi', 'Al Shamsi', '3n2al i s csLayi:', 'NationalityUnited Arab Emirates']\n",
    "print(f_8)"
   ]
  },
  {
   "cell_type": "code",
   "execution_count": 88,
   "id": "810b4d96",
   "metadata": {},
   "outputs": [
    {
     "name": "stdout",
     "output_type": "stream",
     "text": [
      "['SexM jSi', 'Date of Birth 12/05/19756', 'Signature/', 'Expiry Date/', 'Card Numberf3Uall', '25/09/2026', '080113391', '2502290/01', '|LgcL>FL', 'If you find this card,please retur it to the ui', '0540015D0C5C1374', 'organization or to the nearestpolice station', 'IDARE0801133916784197537269769', '7505124M2609256ARE<<<<<<<<<<<4', 'ALSHAMSIXKABDULLAALIMOHAMME']\n"
     ]
    }
   ],
   "source": [
    "b_8 = ['SexM jSi', 'Date of Birth 12/05/19756', 'Signature/', 'Expiry Date/', 'Card Numberf3Uall', '25/09/2026', '080113391', '2502290/01', '|LgcL>FL', 'If you find this card,please retur it to the ui', '0540015D0C5C1374', 'organization or to the nearestpolice station', 'IDARE0801133916784197537269769', '7505124M2609256ARE<<<<<<<<<<<4', 'ALSHAMSIXKABDULLAALIMOHAMME']\n",
    "print(b_8)"
   ]
  },
  {
   "cell_type": "code",
   "execution_count": 89,
   "id": "09432deb",
   "metadata": {},
   "outputs": [
    {
     "name": "stdout",
     "output_type": "stream",
     "text": [
      "['saasj iuluyli', 'United Arab Emirates', 'Resident ldentity Card', 'ID Number', '784-1974-6425362-0', 'ELu Liysl:auy', 'NameAditya Bhagat', 'igJui', 'Nationality:India']\n"
     ]
    }
   ],
   "source": [
    "f_9 = ['saasj iuluyli', 'United Arab Emirates', 'Resident ldentity Card', 'ID Number', '784-1974-6425362-0', 'ELu Liysl:auy', 'NameAditya Bhagat', 'igJui', 'Nationality:India']\n",
    "print(f_9)"
   ]
  },
  {
   "cell_type": "code",
   "execution_count": 90,
   "id": "898c36c8",
   "metadata": {},
   "outputs": [
    {
     "name": "stdout",
     "output_type": "stream",
     "text": [
      "['6exMS:', 'Date of Binth 21/09/1974', 'SignatureExply Dale', 'Card Number', '01/07/2022', '096407772', '164481/01', '118000042E511377', 'orte the', 'ILARE0954077729784197464253620', '7409211M2207010IND<<<<<<<<<<<8', 'BHAGAT<<ADITYA<<<<<<<<<<<<<<<<']\n"
     ]
    }
   ],
   "source": [
    "b_9 = ['6exMS:', 'Date of Binth 21/09/1974', 'SignatureExply Dale', 'Card Number', '01/07/2022', '096407772', '164481/01', '118000042E511377', 'orte the', 'ILARE0954077729784197464253620', '7409211M2207010IND<<<<<<<<<<<8', 'BHAGAT<<ADITYA<<<<<<<<<<<<<<<<']\n",
    "print(b_9)"
   ]
  },
  {
   "cell_type": "code",
   "execution_count": 91,
   "id": "aa80d934",
   "metadata": {},
   "outputs": [
    {
     "name": "stdout",
     "output_type": "stream",
     "text": [
      "['United Arab Emirates', 'Identity Card', 'ID Number', 'Name', 'Nationality']\n"
     ]
    }
   ],
   "source": [
    "strings_front = ['United Arab Emirates','Identity Card','ID Number','Name','Nationality']\n",
    "print(strings_front)"
   ]
  },
  {
   "cell_type": "code",
   "execution_count": 92,
   "id": "231ffe33",
   "metadata": {},
   "outputs": [
    {
     "name": "stdout",
     "output_type": "stream",
     "text": [
      "['NAKCHOU', 'ZIAD ABDULAZIZ', 'ARE', 'SYR', '07/02/61', '201125', 'M', 'IL', '091963000', '784196103838692']\n"
     ]
    }
   ],
   "source": [
    "l1 = ['NAKCHOU', 'ZIAD ABDULAZIZ', 'ARE', 'SYR', '07/02/61', '201125', 'M', 'IL', '091963000', '784196103838692', '6', '3', '2', '', '5']\n",
    "l11 = l1[:10]\n",
    "print(l11)"
   ]
  },
  {
   "cell_type": "code",
   "execution_count": 93,
   "id": "1f202474",
   "metadata": {},
   "outputs": [
    {
     "name": "stdout",
     "output_type": "stream",
     "text": [
      "['ZIAD ABDULAZIZ', 'NAKCHOU', 'ZIAD ABDULAZIZ NAKCHOU', 'Arab Emirates', 'Syria', '784196103838692', '07/02/61', '25/11/20', 'M']\n"
     ]
    }
   ],
   "source": [
    "l1 = ['ZIAD ABDULAZIZ', 'NAKCHOU', 'ZIAD ABDULAZIZ NAKCHOU', 'Arab Emirates', 'Syria', '784196103838692', '07/02/61', '25/11/20', 'M']\n",
    "l11 = l1\n",
    "print(l11)"
   ]
  },
  {
   "cell_type": "code",
   "execution_count": 94,
   "id": "1cd8b71f",
   "metadata": {},
   "outputs": [
    {
     "name": "stdout",
     "output_type": "stream",
     "text": [
      "['United Arab Emirates', 'Baaadl is l elyli', 'Residentldentity Card', 'IDNumber/', '784-1961-0383869-2', 'Saa juialluesuay', 'Name:Ziad Abdulaziz Nakchou', 'NationalitySyrian Arab Republic', 'Sex:M ySj :cuiaJ|', 'Date of Birth 07/02/1961', 'Signature/Expiry Date/gleiyl', 'Card Number', '25/11/2020', '091963000', '157700/01', '8G!L8', 'RN', 'JIgi L1', '0F000034BDDC1376', 'If you find this cardplease return it to the issuing', 'organization or to the nearest police station.']\n"
     ]
    }
   ],
   "source": [
    "l12 = f_5 + b_5[:-3]\n",
    "print(l12)"
   ]
  },
  {
   "cell_type": "code",
   "execution_count": 95,
   "id": "9e5336c5",
   "metadata": {},
   "outputs": [
    {
     "name": "stdout",
     "output_type": "stream",
     "text": [
      "First dataframe:\n",
      "                         0\n",
      "0          ZIAD ABDULAZIZ\n",
      "1                 NAKCHOU\n",
      "2  ZIAD ABDULAZIZ NAKCHOU\n",
      "3           Arab Emirates\n",
      "4                   Syria\n",
      "5         784196103838692\n",
      "6                07/02/61\n",
      "7                25/11/20\n",
      "8                       M \n",
      "Second dataframe:\n",
      "                                                     0\n",
      "0                                United Arab Emirates\n",
      "1                                   Baaadl is l elyli\n",
      "2                               Residentldentity Card\n",
      "3                                           IDNumber/\n",
      "4                                  784-1961-0383869-2\n",
      "5                                    Saa juialluesuay\n",
      "6                         Name:Ziad Abdulaziz Nakchou\n",
      "7                     NationalitySyrian Arab Republic\n",
      "8                                   Sex:M ySj :cuiaJ|\n",
      "9                            Date of Birth 07/02/1961\n",
      "10                       Signature/Expiry Date/gleiyl\n",
      "11                                        Card Number\n",
      "12                                         25/11/2020\n",
      "13                                          091963000\n",
      "14                                          157700/01\n",
      "15                                              8G!L8\n",
      "16                                                 RN\n",
      "17                                            JIgi L1\n",
      "18                                   0F000034BDDC1376\n",
      "19  If you find this cardplease return it to the i...\n",
      "20     organization or to the nearest police station.\n",
      "\n",
      "DataFrame after Fuzzy matching using fuzz.partial_ratio:\n"
     ]
    },
    {
     "data": {
      "text/html": [
       "<div>\n",
       "<style scoped>\n",
       "    .dataframe tbody tr th:only-of-type {\n",
       "        vertical-align: middle;\n",
       "    }\n",
       "\n",
       "    .dataframe tbody tr th {\n",
       "        vertical-align: top;\n",
       "    }\n",
       "\n",
       "    .dataframe thead th {\n",
       "        text-align: right;\n",
       "    }\n",
       "</style>\n",
       "<table border=\"1\" class=\"dataframe\">\n",
       "  <thead>\n",
       "    <tr style=\"text-align: right;\">\n",
       "      <th></th>\n",
       "      <th>0</th>\n",
       "      <th>matches</th>\n",
       "    </tr>\n",
       "  </thead>\n",
       "  <tbody>\n",
       "    <tr>\n",
       "      <th>0</th>\n",
       "      <td>ZIAD ABDULAZIZ</td>\n",
       "      <td>Name:Ziad Abdulaziz Nakchou</td>\n",
       "    </tr>\n",
       "    <tr>\n",
       "      <th>1</th>\n",
       "      <td>NAKCHOU</td>\n",
       "      <td>Name:Ziad Abdulaziz Nakchou</td>\n",
       "    </tr>\n",
       "    <tr>\n",
       "      <th>2</th>\n",
       "      <td>ZIAD ABDULAZIZ NAKCHOU</td>\n",
       "      <td>Name:Ziad Abdulaziz Nakchou</td>\n",
       "    </tr>\n",
       "    <tr>\n",
       "      <th>3</th>\n",
       "      <td>Arab Emirates</td>\n",
       "      <td>United Arab Emirates</td>\n",
       "    </tr>\n",
       "    <tr>\n",
       "      <th>4</th>\n",
       "      <td>Syria</td>\n",
       "      <td>NationalitySyrian Arab Republic</td>\n",
       "    </tr>\n",
       "    <tr>\n",
       "      <th>5</th>\n",
       "      <td>784196103838692</td>\n",
       "      <td>784-1961-0383869-2</td>\n",
       "    </tr>\n",
       "    <tr>\n",
       "      <th>6</th>\n",
       "      <td>07/02/61</td>\n",
       "      <td>Date of Birth 07/02/1961</td>\n",
       "    </tr>\n",
       "    <tr>\n",
       "      <th>7</th>\n",
       "      <td>25/11/20</td>\n",
       "      <td>25/11/2020</td>\n",
       "    </tr>\n",
       "    <tr>\n",
       "      <th>8</th>\n",
       "      <td>M</td>\n",
       "      <td>United Arab Emirates</td>\n",
       "    </tr>\n",
       "  </tbody>\n",
       "</table>\n",
       "</div>"
      ],
      "text/plain": [
       "                        0                          matches\n",
       "0          ZIAD ABDULAZIZ      Name:Ziad Abdulaziz Nakchou\n",
       "1                 NAKCHOU      Name:Ziad Abdulaziz Nakchou\n",
       "2  ZIAD ABDULAZIZ NAKCHOU      Name:Ziad Abdulaziz Nakchou\n",
       "3           Arab Emirates             United Arab Emirates\n",
       "4                   Syria  NationalitySyrian Arab Republic\n",
       "5         784196103838692               784-1961-0383869-2\n",
       "6                07/02/61         Date of Birth 07/02/1961\n",
       "7                25/11/20                       25/11/2020\n",
       "8                       M             United Arab Emirates"
      ]
     },
     "execution_count": 95,
     "metadata": {},
     "output_type": "execute_result"
    }
   ],
   "source": [
    "import pandas as pd\n",
    "from fuzzywuzzy import fuzz\n",
    "from fuzzywuzzy import process\n",
    "import numpy as np\n",
    "\n",
    "# # converting to pandas dataframes\n",
    "dframe1 = pd.DataFrame(l11)\n",
    "dframe2 = pd.DataFrame(l12)\n",
    "\n",
    "# empty lists for storing the matches\n",
    "# later\n",
    "mat1 = []\n",
    "mat2 = []\n",
    "p = []\n",
    "\n",
    "# # printing the pandas dataframes\n",
    "print(\"First dataframe:\\n\", dframe1,\"\\nSecond dataframe:\\n\", dframe2)\n",
    "\n",
    "# converting dataframe column to\n",
    "# list of elements\n",
    "# to do fuzzy matching\n",
    "list1 = dframe1[0].tolist()\n",
    "list2 = dframe2[0].tolist()\n",
    "\n",
    "# list1 = file_lines\n",
    "# list2 = Strings\n",
    "\n",
    "# taking the threshold as 80\n",
    "threshold = 65\n",
    "\n",
    "# iterating through list1 to extract\n",
    "# it's closest match from list2\n",
    "for i in list1:\n",
    "    mat1.append(process.extractOne(\n",
    "    i, list2, scorer=fuzz.partial_ratio))\n",
    "dframe1['matches'] = mat1\n",
    "\n",
    "# iterating through the closest matches\n",
    "# to filter out the maximum closest match\n",
    "for j in dframe1['matches']:\n",
    "\tif j[1] >= threshold:\n",
    "\t\tp.append(j[0])\n",
    "\tmat2.append(\",\".join(p))\n",
    "\tp = []\n",
    "\n",
    "\n",
    "# storing the resultant matches back to dframe1\n",
    "dframe1['matches'] = mat2\n",
    "print(\"\\nDataFrame after Fuzzy matching using fuzz.partial_ratio:\")\n",
    "dframe1.replace(r'^\\s*$', np.nan, regex=True,inplace = True)\n",
    "dframe1"
   ]
  },
  {
   "cell_type": "code",
   "execution_count": 96,
   "id": "c4e28b5b",
   "metadata": {},
   "outputs": [
    {
     "name": "stdout",
     "output_type": "stream",
     "text": [
      "['ZIAD ABDULAZIZ', 'NAKCHOU', 'ZIAD ABDULAZIZ NAKCHOU', 'Arab Emirates', 'Syria', '784196103838692', '07/02/61', '25/11/20', 'M']\n",
      "['Name:Ziad Abdulaziz Nakchou', 'Name:Ziad Abdulaziz Nakchou', 'Name:Ziad Abdulaziz Nakchou', 'United Arab Emirates', 'NationalitySyrian Arab Republic', '784-1961-0383869-2', 'Date of Birth 07/02/1961', '25/11/2020', 'United Arab Emirates']\n",
      "['United Arab Emirates', 'Name:Ziad Abdulaziz Nakchou', 'Date of Birth 07/02/1961', '784-1961-0383869-2', 'NationalitySyrian Arab Republic', '25/11/2020']\n"
     ]
    }
   ],
   "source": [
    "l_ = dframe1[0].tolist()\n",
    "print(l_)\n",
    "l_1 = dframe1['matches'].tolist()\n",
    "print(l_1)\n",
    "print(list(set(l_1)))"
   ]
  },
  {
   "cell_type": "code",
   "execution_count": 97,
   "id": "f14331c0",
   "metadata": {},
   "outputs": [
    {
     "data": {
      "text/plain": [
       "Series([], Name: 0, dtype: object)"
      ]
     },
     "execution_count": 97,
     "metadata": {},
     "output_type": "execute_result"
    }
   ],
   "source": [
    "df = dframe1[0][dframe1['matches'].isnull()]\n",
    "df"
   ]
  },
  {
   "cell_type": "code",
   "execution_count": 98,
   "id": "f98d84e0",
   "metadata": {},
   "outputs": [
    {
     "data": {
      "text/plain": [
       "[]"
      ]
     },
     "execution_count": 98,
     "metadata": {},
     "output_type": "execute_result"
    }
   ],
   "source": [
    "final = df.tolist()\n",
    "final"
   ]
  },
  {
   "cell_type": "code",
   "execution_count": 105,
   "id": "9c43103f",
   "metadata": {},
   "outputs": [
    {
     "name": "stdout",
     "output_type": "stream",
     "text": [
      "First dataframe:\n",
      "                                                     0\n",
      "0                                United Arab Emirates\n",
      "1                                   Baaadl is l elyli\n",
      "2                               Residentldentity Card\n",
      "3                                           IDNumber/\n",
      "4                                  784-1961-0383869-2\n",
      "5                                    Saa juialluesuay\n",
      "6                         Name:Ziad Abdulaziz Nakchou\n",
      "7                     NationalitySyrian Arab Republic\n",
      "8                                   Sex:M ySj :cuiaJ|\n",
      "9                            Date of Birth 07/02/1961\n",
      "10                       Signature/Expiry Date/gleiyl\n",
      "11                                        Card Number\n",
      "12                                         25/11/2020\n",
      "13                                          091963000\n",
      "14                                          157700/01\n",
      "15                                              8G!L8\n",
      "16                                                 RN\n",
      "17                                            JIgi L1\n",
      "18                                   0F000034BDDC1376\n",
      "19  If you find this cardplease return it to the i...\n",
      "20     organization or to the nearest police station. \n",
      "Second dataframe:\n",
      "                         0\n",
      "0          ZIAD ABDULAZIZ\n",
      "1                 NAKCHOU\n",
      "2  ZIAD ABDULAZIZ NAKCHOU\n",
      "3           Arab Emirates\n",
      "4                   Syria\n",
      "5         784196103838692\n",
      "6                07/02/61\n",
      "7                25/11/20\n",
      "8                       M\n",
      "\n",
      "DataFrame after Fuzzy matching using fuzz.partial_ratio:\n"
     ]
    },
    {
     "data": {
      "text/html": [
       "<div>\n",
       "<style scoped>\n",
       "    .dataframe tbody tr th:only-of-type {\n",
       "        vertical-align: middle;\n",
       "    }\n",
       "\n",
       "    .dataframe tbody tr th {\n",
       "        vertical-align: top;\n",
       "    }\n",
       "\n",
       "    .dataframe thead th {\n",
       "        text-align: right;\n",
       "    }\n",
       "</style>\n",
       "<table border=\"1\" class=\"dataframe\">\n",
       "  <thead>\n",
       "    <tr style=\"text-align: right;\">\n",
       "      <th></th>\n",
       "      <th>0</th>\n",
       "      <th>matches</th>\n",
       "    </tr>\n",
       "  </thead>\n",
       "  <tbody>\n",
       "    <tr>\n",
       "      <th>0</th>\n",
       "      <td>United Arab Emirates</td>\n",
       "      <td>Arab Emirates</td>\n",
       "    </tr>\n",
       "    <tr>\n",
       "      <th>1</th>\n",
       "      <td>Baaadl is l elyli</td>\n",
       "      <td>NaN</td>\n",
       "    </tr>\n",
       "    <tr>\n",
       "      <th>2</th>\n",
       "      <td>Residentldentity Card</td>\n",
       "      <td>NaN</td>\n",
       "    </tr>\n",
       "    <tr>\n",
       "      <th>3</th>\n",
       "      <td>IDNumber/</td>\n",
       "      <td>M</td>\n",
       "    </tr>\n",
       "    <tr>\n",
       "      <th>4</th>\n",
       "      <td>784-1961-0383869-2</td>\n",
       "      <td>784196103838692</td>\n",
       "    </tr>\n",
       "    <tr>\n",
       "      <th>5</th>\n",
       "      <td>Saa juialluesuay</td>\n",
       "      <td>NaN</td>\n",
       "    </tr>\n",
       "    <tr>\n",
       "      <th>6</th>\n",
       "      <td>Name:Ziad Abdulaziz Nakchou</td>\n",
       "      <td>ZIAD ABDULAZIZ</td>\n",
       "    </tr>\n",
       "    <tr>\n",
       "      <th>7</th>\n",
       "      <td>NationalitySyrian Arab Republic</td>\n",
       "      <td>Syria</td>\n",
       "    </tr>\n",
       "    <tr>\n",
       "      <th>8</th>\n",
       "      <td>Sex:M ySj :cuiaJ|</td>\n",
       "      <td>M</td>\n",
       "    </tr>\n",
       "    <tr>\n",
       "      <th>9</th>\n",
       "      <td>Date of Birth 07/02/1961</td>\n",
       "      <td>07/02/61</td>\n",
       "    </tr>\n",
       "    <tr>\n",
       "      <th>10</th>\n",
       "      <td>Signature/Expiry Date/gleiyl</td>\n",
       "      <td>NaN</td>\n",
       "    </tr>\n",
       "    <tr>\n",
       "      <th>11</th>\n",
       "      <td>Card Number</td>\n",
       "      <td>M</td>\n",
       "    </tr>\n",
       "    <tr>\n",
       "      <th>12</th>\n",
       "      <td>25/11/2020</td>\n",
       "      <td>25/11/20</td>\n",
       "    </tr>\n",
       "    <tr>\n",
       "      <th>13</th>\n",
       "      <td>091963000</td>\n",
       "      <td>NaN</td>\n",
       "    </tr>\n",
       "    <tr>\n",
       "      <th>14</th>\n",
       "      <td>157700/01</td>\n",
       "      <td>NaN</td>\n",
       "    </tr>\n",
       "    <tr>\n",
       "      <th>15</th>\n",
       "      <td>8G!L8</td>\n",
       "      <td>NaN</td>\n",
       "    </tr>\n",
       "    <tr>\n",
       "      <th>16</th>\n",
       "      <td>RN</td>\n",
       "      <td>NaN</td>\n",
       "    </tr>\n",
       "    <tr>\n",
       "      <th>17</th>\n",
       "      <td>JIgi L1</td>\n",
       "      <td>NaN</td>\n",
       "    </tr>\n",
       "    <tr>\n",
       "      <th>18</th>\n",
       "      <td>0F000034BDDC1376</td>\n",
       "      <td>NaN</td>\n",
       "    </tr>\n",
       "    <tr>\n",
       "      <th>19</th>\n",
       "      <td>If you find this cardplease return it to the i...</td>\n",
       "      <td>NaN</td>\n",
       "    </tr>\n",
       "    <tr>\n",
       "      <th>20</th>\n",
       "      <td>organization or to the nearest police station.</td>\n",
       "      <td>NaN</td>\n",
       "    </tr>\n",
       "  </tbody>\n",
       "</table>\n",
       "</div>"
      ],
      "text/plain": [
       "                                                    0          matches\n",
       "0                                United Arab Emirates    Arab Emirates\n",
       "1                                   Baaadl is l elyli              NaN\n",
       "2                               Residentldentity Card              NaN\n",
       "3                                           IDNumber/                M\n",
       "4                                  784-1961-0383869-2  784196103838692\n",
       "5                                    Saa juialluesuay              NaN\n",
       "6                         Name:Ziad Abdulaziz Nakchou   ZIAD ABDULAZIZ\n",
       "7                     NationalitySyrian Arab Republic            Syria\n",
       "8                                   Sex:M ySj :cuiaJ|                M\n",
       "9                            Date of Birth 07/02/1961         07/02/61\n",
       "10                       Signature/Expiry Date/gleiyl              NaN\n",
       "11                                        Card Number                M\n",
       "12                                         25/11/2020         25/11/20\n",
       "13                                          091963000              NaN\n",
       "14                                          157700/01              NaN\n",
       "15                                              8G!L8              NaN\n",
       "16                                                 RN              NaN\n",
       "17                                            JIgi L1              NaN\n",
       "18                                   0F000034BDDC1376              NaN\n",
       "19  If you find this cardplease return it to the i...              NaN\n",
       "20     organization or to the nearest police station.              NaN"
      ]
     },
     "execution_count": 105,
     "metadata": {},
     "output_type": "execute_result"
    }
   ],
   "source": [
    "import pandas as pd\n",
    "from fuzzywuzzy import fuzz\n",
    "from fuzzywuzzy import process\n",
    "import numpy as np\n",
    "\n",
    "# # converting to pandas dataframes\n",
    "dframe1 = pd.DataFrame(l12)\n",
    "dframe2 = pd.DataFrame(l11)\n",
    "\n",
    "# empty lists for storing the matches\n",
    "# later\n",
    "mat1 = []\n",
    "mat2 = []\n",
    "p = []\n",
    "\n",
    "# # printing the pandas dataframes\n",
    "print(\"First dataframe:\\n\", dframe1,\"\\nSecond dataframe:\\n\", dframe2)\n",
    "\n",
    "# converting dataframe column to\n",
    "# list of elements\n",
    "# to do fuzzy matching\n",
    "list1 = dframe1[0].tolist()\n",
    "list2 = dframe2[0].tolist()\n",
    "\n",
    "# list1 = file_lines\n",
    "# list2 = Strings\n",
    "\n",
    "# taking the threshold as 80\n",
    "threshold = 65\n",
    "\n",
    "# iterating through list1 to extract\n",
    "# it's closest match from list2\n",
    "for i in list1:\n",
    "    mat1.append(process.extractOne(\n",
    "    i, list2, scorer=fuzz.partial_ratio))\n",
    "dframe1['matches'] = mat1\n",
    "\n",
    "# iterating through the closest matches\n",
    "# to filter out the maximum closest match\n",
    "for j in dframe1['matches']:\n",
    "\tif j[1] >= threshold:\n",
    "\t\tp.append(j[0])\n",
    "\tmat2.append(\",\".join(p))\n",
    "\tp = []\n",
    "\n",
    "\n",
    "# storing the resultant matches back to dframe1\n",
    "dframe1['matches'] = mat2\n",
    "print(\"\\nDataFrame after Fuzzy matching using fuzz.partial_ratio:\")\n",
    "dframe1.replace(r'^\\s*$', np.nan, regex=True,inplace = True)\n",
    "dframe1"
   ]
  },
  {
   "cell_type": "code",
   "execution_count": 112,
   "id": "f87cc3da",
   "metadata": {},
   "outputs": [
    {
     "data": {
      "text/plain": [
       "1                                     Baaadl is l elyli\n",
       "2                                 Residentldentity Card\n",
       "5                                      Saa juialluesuay\n",
       "10                         Signature/Expiry Date/gleiyl\n",
       "13                                            091963000\n",
       "14                                            157700/01\n",
       "15                                                8G!L8\n",
       "16                                                   RN\n",
       "17                                              JIgi L1\n",
       "18                                     0F000034BDDC1376\n",
       "19    If you find this cardplease return it to the i...\n",
       "20       organization or to the nearest police station.\n",
       "Name: 0, dtype: object"
      ]
     },
     "execution_count": 112,
     "metadata": {},
     "output_type": "execute_result"
    }
   ],
   "source": [
    "df = dframe1[0][dframe1['matches'].isnull()]\n",
    "df"
   ]
  },
  {
   "cell_type": "code",
   "execution_count": 113,
   "id": "85ac3edd",
   "metadata": {},
   "outputs": [
    {
     "data": {
      "text/plain": [
       "0                United Arab Emirates\n",
       "3                           IDNumber/\n",
       "4                  784-1961-0383869-2\n",
       "6         Name:Ziad Abdulaziz Nakchou\n",
       "7     NationalitySyrian Arab Republic\n",
       "8                   Sex:M ySj :cuiaJ|\n",
       "9            Date of Birth 07/02/1961\n",
       "11                        Card Number\n",
       "12                         25/11/2020\n",
       "Name: 0, dtype: object"
      ]
     },
     "execution_count": 113,
     "metadata": {},
     "output_type": "execute_result"
    }
   ],
   "source": [
    "df_1 = dframe1[0][dframe1['matches'].notnull()]\n",
    "df_1"
   ]
  },
  {
   "cell_type": "code",
   "execution_count": 110,
   "id": "7cc93794",
   "metadata": {},
   "outputs": [
    {
     "data": {
      "text/plain": [
       "['Baaadl is l elyli',\n",
       " 'Residentldentity Card',\n",
       " 'Saa juialluesuay',\n",
       " 'Signature/Expiry Date/gleiyl',\n",
       " '091963000',\n",
       " '157700/01',\n",
       " '8G!L8',\n",
       " 'RN',\n",
       " 'JIgi L1',\n",
       " '0F000034BDDC1376',\n",
       " 'If you find this cardplease return it to the issuing',\n",
       " 'organization or to the nearest police station.']"
      ]
     },
     "execution_count": 110,
     "metadata": {},
     "output_type": "execute_result"
    }
   ],
   "source": [
    "final = df.tolist()\n",
    "final"
   ]
  },
  {
   "cell_type": "code",
   "execution_count": 114,
   "id": "af96874a",
   "metadata": {},
   "outputs": [
    {
     "data": {
      "text/plain": [
       "['United Arab Emirates',\n",
       " 'IDNumber/',\n",
       " '784-1961-0383869-2',\n",
       " 'Name:Ziad Abdulaziz Nakchou',\n",
       " 'NationalitySyrian Arab Republic',\n",
       " 'Sex:M ySj :cuiaJ|',\n",
       " 'Date of Birth 07/02/1961',\n",
       " 'Card Number',\n",
       " '25/11/2020']"
      ]
     },
     "execution_count": 114,
     "metadata": {},
     "output_type": "execute_result"
    }
   ],
   "source": [
    "final_1 = df_1.tolist()\n",
    "final_1"
   ]
  },
  {
   "cell_type": "code",
   "execution_count": 100,
   "id": "96c29250",
   "metadata": {},
   "outputs": [
    {
     "name": "stdout",
     "output_type": "stream",
     "text": [
      "702016\n",
      "70/20/16\n",
      "['70', '20', '16']\n",
      "07/02/61\n"
     ]
    }
   ],
   "source": [
    "s1 = str(610207)\n",
    "s = s1[::-1]\n",
    "print(int(s))\n",
    "print(s[:2]+\"/\"+s[2:4]+\"/\"+s[4:])\n",
    "print([s[i:i+2] for i in range(0, len(s), 2)])\n",
    "print(\"/\".join(reversed([s1[i:i+2] for i in range(0, len(s1), 2)])))"
   ]
  },
  {
   "cell_type": "code",
   "execution_count": 101,
   "id": "15a7b0d4",
   "metadata": {},
   "outputs": [
    {
     "name": "stdout",
     "output_type": "stream",
     "text": [
      "<class 'module'>\n",
      "2022-02-01 13:50:52.629517\n"
     ]
    }
   ],
   "source": [
    "import datetime\n",
    "\n",
    "print(type(datetime))\n",
    "d1 = datetime.datetime.now()\n",
    "print(d1)"
   ]
  },
  {
   "cell_type": "code",
   "execution_count": 102,
   "id": "556e63c6",
   "metadata": {},
   "outputs": [
    {
     "name": "stdout",
     "output_type": "stream",
     "text": [
      "07/02/2068\n"
     ]
    }
   ],
   "source": [
    "import datetime\n",
    "print(datetime.datetime.strptime('07/02/68', '%d/%m/%y').strftime(\"%d/%m/%Y\"))"
   ]
  },
  {
   "cell_type": "code",
   "execution_count": 115,
   "id": "8058602e",
   "metadata": {},
   "outputs": [
    {
     "name": "stdout",
     "output_type": "stream",
     "text": [
      "The cosine similarity between : United Arab Emirates and : ZIAD ABDULAZIZ is: 19.36491673103708\n",
      "The cosine similarity between : IDNumber/ and : ZIAD ABDULAZIZ is: 24.34322477800738\n",
      "The cosine similarity between : 784-1961-0383869-2 and : ZIAD ABDULAZIZ is: 0.0\n",
      "The cosine similarity between : Name:Ziad Abdulaziz Nakchou and : ZIAD ABDULAZIZ is: 20.452399702596544\n",
      "The cosine similarity between : NationalitySyrian Arab Republic and : ZIAD ABDULAZIZ is: 10.989674556596448\n",
      "The cosine similarity between : Sex:M ySj :cuiaJ| and : ZIAD ABDULAZIZ is: 7.61386987626881\n",
      "The cosine similarity between : Date of Birth 07/02/1961 and : ZIAD ABDULAZIZ is: 17.77046633277277\n",
      "The cosine similarity between : Card Number and : ZIAD ABDULAZIZ is: 5.063696835418333\n",
      "The cosine similarity between : 25/11/2020 and : ZIAD ABDULAZIZ is: 0.0\n",
      "The cosine similarity between : United Arab Emirates and : NAKCHOU is: 13.363062095621217\n",
      "The cosine similarity between : IDNumber/ and : NAKCHOU is: 12.598815766974239\n",
      "The cosine similarity between : 784-1961-0383869-2 and : NAKCHOU is: 0.0\n",
      "The cosine similarity between : Name:Ziad Abdulaziz Nakchou and : NAKCHOU is: 15.877683720748895\n",
      "The cosine similarity between : NationalitySyrian Arab Republic and : NAKCHOU is: 9.100315103865801\n",
      "The cosine similarity between : Sex:M ySj :cuiaJ| and : NAKCHOU is: 0.0\n",
      "The cosine similarity between : Date of Birth 07/02/1961 and : NAKCHOU is: 0.0\n",
      "The cosine similarity between : Card Number and : NAKCHOU is: 20.965696734438367\n",
      "The cosine similarity between : 25/11/2020 and : NAKCHOU is: 0.0\n",
      "The cosine similarity between : United Arab Emirates and : ZIAD ABDULAZIZ NAKCHOU is: 25.51551815399144\n",
      "The cosine similarity between : IDNumber/ and : ZIAD ABDULAZIZ NAKCHOU is: 24.05626121623441\n",
      "The cosine similarity between : 784-1961-0383869-2 and : ZIAD ABDULAZIZ NAKCHOU is: 0.0\n",
      "The cosine similarity between : Name:Ziad Abdulaziz Nakchou and : ZIAD ABDULAZIZ NAKCHOU is: 26.274692712269403\n",
      "The cosine similarity between : NationalitySyrian Arab Republic and : ZIAD ABDULAZIZ NAKCHOU is: 15.638581054280609\n",
      "The cosine similarity between : Sex:M ySj :cuiaJ| and : ZIAD ABDULAZIZ NAKCHOU is: 12.038585308576922\n",
      "The cosine similarity between : Date of Birth 07/02/1961 and : ZIAD ABDULAZIZ NAKCHOU is: 21.073180760588116\n",
      "The cosine similarity between : Card Number and : ZIAD ABDULAZIZ NAKCHOU is: 16.012815380508716\n",
      "The cosine similarity between : 25/11/2020 and : ZIAD ABDULAZIZ NAKCHOU is: 0.0\n",
      "The cosine similarity between : United Arab Emirates and : Arab Emirates is: 90.03675719981713\n",
      "The cosine similarity between : IDNumber/ and : Arab Emirates is: 40.42260417272217\n",
      "The cosine similarity between : 784-1961-0383869-2 and : Arab Emirates is: 0.0\n",
      "The cosine similarity between : Name:Ziad Abdulaziz Nakchou and : Arab Emirates is: 54.338848864905955\n",
      "The cosine similarity between : NationalitySyrian Arab Republic and : Arab Emirates is: 70.07485949685405\n",
      "The cosine similarity between : Sex:M ySj :cuiaJ| and : Arab Emirates is: 30.34330424545042\n",
      "The cosine similarity between : Date of Birth 07/02/1961 and : Arab Emirates is: 43.27892114505486\n",
      "The cosine similarity between : Card Number and : Arab Emirates is: 67.26727939963125\n",
      "The cosine similarity between : 25/11/2020 and : Arab Emirates is: 0.0\n",
      "The cosine similarity between : United Arab Emirates and : Syria is: 47.43416490252568\n",
      "The cosine similarity between : IDNumber/ and : Syria is: 14.907119849998596\n",
      "The cosine similarity between : 784-1961-0383869-2 and : Syria is: 0.0\n",
      "The cosine similarity between : Name:Ziad Abdulaziz Nakchou and : Syria is: 37.573457465108966\n",
      "The cosine similarity between : NationalitySyrian Arab Republic and : Syria is: 69.98964726756152\n",
      "The cosine similarity between : Sex:M ySj :cuiaJ| and : Syria is: 46.625240412015685\n",
      "The cosine similarity between : Date of Birth 07/02/1961 and : Syria is: 21.764287503300352\n",
      "The cosine similarity between : Card Number and : Syria is: 37.210420376762535\n",
      "The cosine similarity between : 25/11/2020 and : Syria is: 0.0\n",
      "The cosine similarity between : United Arab Emirates and : 784196103838692 is: 0.0\n",
      "The cosine similarity between : IDNumber/ and : 784196103838692 is: 0.0\n",
      "The cosine similarity between : 784-1961-0383869-2 and : 784196103838692 is: 87.3589088036728\n",
      "The cosine similarity between : Name:Ziad Abdulaziz Nakchou and : 784196103838692 is: 0.0\n",
      "The cosine similarity between : NationalitySyrian Arab Republic and : 784196103838692 is: 0.0\n",
      "The cosine similarity between : Sex:M ySj :cuiaJ| and : 784196103838692 is: 0.0\n",
      "The cosine similarity between : Date of Birth 07/02/1961 and : 784196103838692 is: 36.14851398772668\n",
      "The cosine similarity between : Card Number and : 784196103838692 is: 0.0\n",
      "The cosine similarity between : 25/11/2020 and : 784196103838692 is: 35.63134121092031\n",
      "The cosine similarity between : United Arab Emirates and : 07/02/61 is: 0.0\n",
      "The cosine similarity between : IDNumber/ and : 07/02/61 is: 19.245008972987527\n",
      "The cosine similarity between : 784-1961-0383869-2 and : 07/02/61 is: 37.46343246326776\n",
      "The cosine similarity between : Name:Ziad Abdulaziz Nakchou and : 07/02/61 is: 0.0\n",
      "The cosine similarity between : NationalitySyrian Arab Republic and : 07/02/61 is: 0.0\n",
      "The cosine similarity between : Sex:M ySj :cuiaJ| and : 07/02/61 is: 0.0\n",
      "The cosine similarity between : Date of Birth 07/02/1961 and : 07/02/61 is: 60.878077752810114\n",
      "The cosine similarity between : Card Number and : 07/02/61 is: 0.0\n",
      "The cosine similarity between : 25/11/2020 and : 07/02/61 is: 80.00946913656628\n",
      "The cosine similarity between : United Arab Emirates and : 25/11/20 is: 0.0\n",
      "The cosine similarity between : IDNumber/ and : 25/11/20 is: 17.81741612749496\n",
      "The cosine similarity between : 784-1961-0383869-2 and : 25/11/20 is: 30.348848933344204\n",
      "The cosine similarity between : Name:Ziad Abdulaziz Nakchou and : 25/11/20 is: 0.0\n",
      "The cosine similarity between : NationalitySyrian Arab Republic and : 25/11/20 is: 0.0\n",
      "The cosine similarity between : Sex:M ySj :cuiaJ| and : 25/11/20 is: 0.0\n",
      "The cosine similarity between : Date of Birth 07/02/1961 and : 25/11/20 is: 52.026598171447205\n",
      "The cosine similarity between : Card Number and : 25/11/20 is: 0.0\n",
      "The cosine similarity between : 25/11/2020 and : 25/11/20 is: 96.86648999069224\n",
      "The cosine similarity between : United Arab Emirates and : M is: 0.0\n",
      "The cosine similarity between : IDNumber/ and : M is: 0.0\n",
      "The cosine similarity between : 784-1961-0383869-2 and : M is: 0.0\n",
      "The cosine similarity between : Name:Ziad Abdulaziz Nakchou and : M is: 0.0\n",
      "The cosine similarity between : NationalitySyrian Arab Republic and : M is: 0.0\n",
      "The cosine similarity between : Sex:M ySj :cuiaJ| and : M is: 20.851441405707476\n",
      "The cosine similarity between : Date of Birth 07/02/1961 and : M is: 0.0\n",
      "The cosine similarity between : Card Number and : M is: 0.0\n",
      "The cosine similarity between : 25/11/2020 and : M is: 0.0\n"
     ]
    }
   ],
   "source": [
    "def word2vec(word):\n",
    "    from collections import Counter\n",
    "    from math import sqrt\n",
    "\n",
    "    # count the characters in word\n",
    "    cw = Counter(word)\n",
    "    # precomputes a set of the different characters\n",
    "    sw = set(cw)\n",
    "    # precomputes the \"length\" of the word vector\n",
    "    lw = sqrt(sum(c*c for c in cw.values()))\n",
    "\n",
    "    # return a tuple\n",
    "    return cw, sw, lw\n",
    "\n",
    "def cosdis(v1, v2):\n",
    "    # which characters are common to the two words?\n",
    "    common = v1[1].intersection(v2[1])\n",
    "    # by definition of cosine distance we have\n",
    "    return sum(v1[0][ch]*v2[0][ch] for ch in common)/v1[2]/v2[2]\n",
    "\n",
    "\n",
    "list_A = l11\n",
    "list_B = final_1\n",
    "\n",
    "threshold = 0.80     # if needed\n",
    "for key in list_A:\n",
    "    for word in list_B:\n",
    "        try:\n",
    "            # print(key)\n",
    "            # print(word)\n",
    "            res = cosdis(word2vec(word), word2vec(key))\n",
    "            # print(res)\n",
    "            print(\"The cosine similarity between : {} and : {} is: {}\".format(word, key, res*100))\n",
    "            # if res > threshold:\n",
    "            #     print(\"Found a word with cosine distance > 80 : {} with original word: {}\".format(word, key))\n",
    "        except IndexError:\n",
    "            pass\n"
   ]
  },
  {
   "cell_type": "code",
   "execution_count": 119,
   "id": "a3eac1de",
   "metadata": {},
   "outputs": [
    {
     "name": "stdout",
     "output_type": "stream",
     "text": [
      "Found a word with cosine distance > 80 : IDNumber/ with original word: ZIAD ABDULAZIZ\n",
      "Found a word with cosine distance > 80 : Name:Ziad Abdulaziz Nakchou with original word: ZIAD ABDULAZIZ\n",
      "Found a word with cosine distance > 80 : Card Number with original word: NAKCHOU\n",
      "Found a word with cosine distance > 80 : United Arab Emirates with original word: ZIAD ABDULAZIZ NAKCHOU\n",
      "Found a word with cosine distance > 80 : IDNumber/ with original word: ZIAD ABDULAZIZ NAKCHOU\n",
      "Found a word with cosine distance > 80 : Name:Ziad Abdulaziz Nakchou with original word: ZIAD ABDULAZIZ NAKCHOU\n",
      "Found a word with cosine distance > 80 : Date of Birth 07/02/1961 with original word: ZIAD ABDULAZIZ NAKCHOU\n",
      "Found a word with cosine distance > 80 : United Arab Emirates with original word: Arab Emirates\n",
      "Found a word with cosine distance > 80 : IDNumber/ with original word: Arab Emirates\n",
      "Found a word with cosine distance > 80 : Name:Ziad Abdulaziz Nakchou with original word: Arab Emirates\n",
      "Found a word with cosine distance > 80 : NationalitySyrian Arab Republic with original word: Arab Emirates\n",
      "Found a word with cosine distance > 80 : Sex:M ySj :cuiaJ| with original word: Arab Emirates\n",
      "Found a word with cosine distance > 80 : Date of Birth 07/02/1961 with original word: Arab Emirates\n",
      "Found a word with cosine distance > 80 : Card Number with original word: Arab Emirates\n",
      "Found a word with cosine distance > 80 : United Arab Emirates with original word: Syria\n",
      "Found a word with cosine distance > 80 : Name:Ziad Abdulaziz Nakchou with original word: Syria\n",
      "Found a word with cosine distance > 80 : NationalitySyrian Arab Republic with original word: Syria\n",
      "Found a word with cosine distance > 80 : Sex:M ySj :cuiaJ| with original word: Syria\n",
      "Found a word with cosine distance > 80 : Date of Birth 07/02/1961 with original word: Syria\n",
      "Found a word with cosine distance > 80 : Card Number with original word: Syria\n",
      "Found a word with cosine distance > 80 : 784-1961-0383869-2 with original word: 784196103838692\n",
      "Found a word with cosine distance > 80 : Date of Birth 07/02/1961 with original word: 784196103838692\n",
      "Found a word with cosine distance > 80 : 25/11/2020 with original word: 784196103838692\n",
      "Found a word with cosine distance > 80 : 784-1961-0383869-2 with original word: 07/02/61\n",
      "Found a word with cosine distance > 80 : Date of Birth 07/02/1961 with original word: 07/02/61\n",
      "Found a word with cosine distance > 80 : 25/11/2020 with original word: 07/02/61\n",
      "Found a word with cosine distance > 80 : 784-1961-0383869-2 with original word: 25/11/20\n",
      "Found a word with cosine distance > 80 : Date of Birth 07/02/1961 with original word: 25/11/20\n",
      "Found a word with cosine distance > 80 : 25/11/2020 with original word: 25/11/20\n",
      "Found a word with cosine distance > 80 : Sex:M ySj :cuiaJ| with original word: M\n"
     ]
    }
   ],
   "source": [
    "def word2vec(word):\n",
    "    from collections import Counter\n",
    "    from math import sqrt\n",
    "\n",
    "    # count the characters in word\n",
    "    cw = Counter(word)\n",
    "    # precomputes a set of the different characters\n",
    "    sw = set(cw)\n",
    "    # precomputes the \"length\" of the word vector\n",
    "    lw = sqrt(sum(c*c for c in cw.values()))\n",
    "\n",
    "    # return a tuple\n",
    "    return cw, sw, lw\n",
    "\n",
    "def cosdis(v1, v2):\n",
    "    # which characters are common to the two words?\n",
    "    common = v1[1].intersection(v2[1])\n",
    "    # by definition of cosine distance we have\n",
    "    return sum(v1[0][ch]*v2[0][ch] for ch in common)/v1[2]/v2[2]\n",
    "\n",
    "\n",
    "list_A = l11\n",
    "list_B = final_1\n",
    "\n",
    "threshold = 0.20     # if needed\n",
    "for key in list_A:\n",
    "    for word in list_B:\n",
    "        try:\n",
    "            # print(key)\n",
    "            # print(word)\n",
    "            res = cosdis(word2vec(word), word2vec(key))\n",
    "            # print(res)\n",
    "#             print(\"The cosine similarity between : {} and : {} is: {}\".format(word, key, res*100))\n",
    "            if res > threshold:\n",
    "                print(\"Found a word with cosine distance > 80 : {} with original word: {}\".format(word, key))\n",
    "        except IndexError:\n",
    "            pass\n"
   ]
  },
  {
   "cell_type": "code",
   "execution_count": 123,
   "id": "ac8c731c",
   "metadata": {},
   "outputs": [
    {
     "data": {
      "text/plain": [
       "['ZIAD ABDULAZIZ',\n",
       " 'NAKCHOU',\n",
       " 'ZIAD ABDULAZIZ NAKCHOU',\n",
       " 'Arab Emirates',\n",
       " 'Syria',\n",
       " '784196103838692',\n",
       " '07/02/61',\n",
       " '25/11/20',\n",
       " 'M']"
      ]
     },
     "execution_count": 123,
     "metadata": {},
     "output_type": "execute_result"
    }
   ],
   "source": [
    "l11"
   ]
  },
  {
   "cell_type": "code",
   "execution_count": 124,
   "id": "7093dcca",
   "metadata": {},
   "outputs": [
    {
     "data": {
      "text/plain": [
       "['United Arab Emirates',\n",
       " 'IDNumber/',\n",
       " '784-1961-0383869-2',\n",
       " 'Name:Ziad Abdulaziz Nakchou',\n",
       " 'NationalitySyrian Arab Republic',\n",
       " 'Sex:M ySj :cuiaJ|',\n",
       " 'Date of Birth 07/02/1961',\n",
       " 'Card Number',\n",
       " '25/11/2020']"
      ]
     },
     "execution_count": 124,
     "metadata": {},
     "output_type": "execute_result"
    }
   ],
   "source": [
    "final_1"
   ]
  },
  {
   "cell_type": "code",
   "execution_count": null,
   "id": "2604db21",
   "metadata": {},
   "outputs": [],
   "source": []
  }
 ],
 "metadata": {
  "kernelspec": {
   "display_name": "Python 3 (ipykernel)",
   "language": "python",
   "name": "python3"
  },
  "language_info": {
   "codemirror_mode": {
    "name": "ipython",
    "version": 3
   },
   "file_extension": ".py",
   "mimetype": "text/x-python",
   "name": "python",
   "nbconvert_exporter": "python",
   "pygments_lexer": "ipython3",
   "version": "3.8.10"
  }
 },
 "nbformat": 4,
 "nbformat_minor": 5
}
