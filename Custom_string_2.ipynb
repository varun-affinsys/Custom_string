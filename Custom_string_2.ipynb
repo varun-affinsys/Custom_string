{
 "cells": [
  {
   "cell_type": "code",
   "execution_count": 13,
   "id": "27b2d451",
   "metadata": {},
   "outputs": [],
   "source": [
    "import pandas as pd\n",
    "from fuzzywuzzy import fuzz"
   ]
  },
  {
   "cell_type": "code",
   "execution_count": 14,
   "id": "17c0cb7f",
   "metadata": {},
   "outputs": [
    {
     "data": {
      "text/plain": [
       "['ZIAD ABDULAZIZ',\n",
       " 'NAKCHOU',\n",
       " 'Arab Emirates',\n",
       " 'Syria',\n",
       " '784196103838692',\n",
       " '07/02/61',\n",
       " '25/11/20',\n",
       " 'M']"
      ]
     },
     "execution_count": 14,
     "metadata": {},
     "output_type": "execute_result"
    }
   ],
   "source": [
    "list_A = ['ZIAD ABDULAZIZ', 'NAKCHOU', 'Arab Emirates', 'Syria', '784196103838692', '07/02/61', '25/11/20', 'M']\n",
    "list_A"
   ]
  },
  {
   "cell_type": "code",
   "execution_count": 15,
   "id": "dfa11129",
   "metadata": {},
   "outputs": [
    {
     "data": {
      "text/plain": [
       "['United Arab Emirates',\n",
       " 'IDNumber/',\n",
       " '784-1961-0383869-2',\n",
       " 'Name:Ziad Abdulaziz Nakchou',\n",
       " 'NationalitySyrian Arab Republic',\n",
       " 'Sex:M ySj :cuiaJ|',\n",
       " 'Date of Birth 07/02/1961',\n",
       " 'Card Number',\n",
       " '25/11/2020']"
      ]
     },
     "execution_count": 15,
     "metadata": {},
     "output_type": "execute_result"
    }
   ],
   "source": [
    "list_B = ['United Arab Emirates',\n",
    " 'IDNumber/',\n",
    " '784-1961-0383869-2',\n",
    " 'Name:Ziad Abdulaziz Nakchou',\n",
    " 'NationalitySyrian Arab Republic',\n",
    " 'Sex:M ySj :cuiaJ|',\n",
    " 'Date of Birth 07/02/1961',\n",
    " 'Card Number',\n",
    " '25/11/2020']\n",
    "list_B"
   ]
  },
  {
   "cell_type": "code",
   "execution_count": 16,
   "id": "02eb56f6",
   "metadata": {},
   "outputs": [],
   "source": [
    "A_cleaned = [customer for customer in list_A if not(pd.isnull(customer))]\n",
    "B_cleaned = [customer for customer in list_B if not(pd.isnull(customer))]"
   ]
  },
  {
   "cell_type": "code",
   "execution_count": 17,
   "id": "805c7e7b",
   "metadata": {},
   "outputs": [
    {
     "data": {
      "text/plain": [
       "['ZIAD ABDULAZIZ',\n",
       " 'NAKCHOU',\n",
       " 'Arab Emirates',\n",
       " 'Syria',\n",
       " '784196103838692',\n",
       " '07/02/61',\n",
       " '25/11/20',\n",
       " 'M']"
      ]
     },
     "execution_count": 17,
     "metadata": {},
     "output_type": "execute_result"
    }
   ],
   "source": [
    "A_cleaned"
   ]
  },
  {
   "cell_type": "code",
   "execution_count": 18,
   "id": "c291149c",
   "metadata": {},
   "outputs": [
    {
     "data": {
      "text/plain": [
       "['United Arab Emirates',\n",
       " 'IDNumber/',\n",
       " '784-1961-0383869-2',\n",
       " 'Name:Ziad Abdulaziz Nakchou',\n",
       " 'NationalitySyrian Arab Republic',\n",
       " 'Sex:M ySj :cuiaJ|',\n",
       " 'Date of Birth 07/02/1961',\n",
       " 'Card Number',\n",
       " '25/11/2020']"
      ]
     },
     "execution_count": 18,
     "metadata": {},
     "output_type": "execute_result"
    }
   ],
   "source": [
    "B_cleaned"
   ]
  },
  {
   "cell_type": "code",
   "execution_count": 19,
   "id": "d8095288",
   "metadata": {},
   "outputs": [
    {
     "data": {
      "text/plain": [
       "[(100, 'Name:Ziad Abdulaziz Nakchou'),\n",
       " (100, 'Name:Ziad Abdulaziz Nakchou'),\n",
       " (100, 'United Arab Emirates'),\n",
       " (28, 'NationalitySyrian Arab Republic'),\n",
       " (48, '784-1961-0383869-2'),\n",
       " (77, 'Date of Birth 07/02/1961'),\n",
       " (89, '25/11/2020'),\n",
       " (100, 'Sex:M ySj :cuiaJ|')]"
      ]
     },
     "execution_count": 19,
     "metadata": {},
     "output_type": "execute_result"
    }
   ],
   "source": [
    "# Perform fuzzy string matching\n",
    "tuples_list = [max([(fuzz.token_set_ratio(i,j),j) for j in B_cleaned]) for i in A_cleaned]\n",
    "tuples_list"
   ]
  },
  {
   "cell_type": "code",
   "execution_count": 20,
   "id": "3891034e",
   "metadata": {},
   "outputs": [
    {
     "data": {
      "text/html": [
       "<div>\n",
       "<style scoped>\n",
       "    .dataframe tbody tr th:only-of-type {\n",
       "        vertical-align: middle;\n",
       "    }\n",
       "\n",
       "    .dataframe tbody tr th {\n",
       "        vertical-align: top;\n",
       "    }\n",
       "\n",
       "    .dataframe thead th {\n",
       "        text-align: right;\n",
       "    }\n",
       "</style>\n",
       "<table border=\"1\" class=\"dataframe\">\n",
       "  <thead>\n",
       "    <tr style=\"text-align: right;\">\n",
       "      <th></th>\n",
       "      <th>list_A</th>\n",
       "      <th>fuzzy match</th>\n",
       "      <th>similarity score</th>\n",
       "    </tr>\n",
       "  </thead>\n",
       "  <tbody>\n",
       "    <tr>\n",
       "      <th>0</th>\n",
       "      <td>ZIAD ABDULAZIZ</td>\n",
       "      <td>Name:Ziad Abdulaziz Nakchou</td>\n",
       "      <td>100</td>\n",
       "    </tr>\n",
       "    <tr>\n",
       "      <th>1</th>\n",
       "      <td>NAKCHOU</td>\n",
       "      <td>Name:Ziad Abdulaziz Nakchou</td>\n",
       "      <td>100</td>\n",
       "    </tr>\n",
       "    <tr>\n",
       "      <th>2</th>\n",
       "      <td>Arab Emirates</td>\n",
       "      <td>United Arab Emirates</td>\n",
       "      <td>100</td>\n",
       "    </tr>\n",
       "    <tr>\n",
       "      <th>3</th>\n",
       "      <td>Syria</td>\n",
       "      <td>NationalitySyrian Arab Republic</td>\n",
       "      <td>28</td>\n",
       "    </tr>\n",
       "    <tr>\n",
       "      <th>4</th>\n",
       "      <td>784196103838692</td>\n",
       "      <td>784-1961-0383869-2</td>\n",
       "      <td>48</td>\n",
       "    </tr>\n",
       "    <tr>\n",
       "      <th>5</th>\n",
       "      <td>07/02/61</td>\n",
       "      <td>Date of Birth 07/02/1961</td>\n",
       "      <td>77</td>\n",
       "    </tr>\n",
       "    <tr>\n",
       "      <th>6</th>\n",
       "      <td>25/11/20</td>\n",
       "      <td>25/11/2020</td>\n",
       "      <td>89</td>\n",
       "    </tr>\n",
       "    <tr>\n",
       "      <th>7</th>\n",
       "      <td>M</td>\n",
       "      <td>Sex:M ySj :cuiaJ|</td>\n",
       "      <td>100</td>\n",
       "    </tr>\n",
       "  </tbody>\n",
       "</table>\n",
       "</div>"
      ],
      "text/plain": [
       "            list_A                      fuzzy match  similarity score\n",
       "0   ZIAD ABDULAZIZ      Name:Ziad Abdulaziz Nakchou               100\n",
       "1          NAKCHOU      Name:Ziad Abdulaziz Nakchou               100\n",
       "2    Arab Emirates             United Arab Emirates               100\n",
       "3            Syria  NationalitySyrian Arab Republic                28\n",
       "4  784196103838692               784-1961-0383869-2                48\n",
       "5         07/02/61         Date of Birth 07/02/1961                77\n",
       "6         25/11/20                       25/11/2020                89\n",
       "7                M                Sex:M ySj :cuiaJ|               100"
      ]
     },
     "execution_count": 20,
     "metadata": {},
     "output_type": "execute_result"
    }
   ],
   "source": [
    "# Unpack list of tuples into two lists\n",
    "similarity_score, fuzzy_match = map(list,zip(*tuples_list))\n",
    "# Create pandas DataFrame\n",
    "df = pd.DataFrame({\"list_A\":A_cleaned, \"fuzzy match\": fuzzy_match, \"similarity score\":similarity_score})\n",
    "df"
   ]
  },
  {
   "cell_type": "code",
   "execution_count": 21,
   "id": "94052a56",
   "metadata": {},
   "outputs": [
    {
     "data": {
      "text/plain": [
       "0.8025"
      ]
     },
     "execution_count": 21,
     "metadata": {},
     "output_type": "execute_result"
    }
   ],
   "source": [
    "similaity_score = sum(df['similarity score'])/(len(df['similarity score'])*100)\n",
    "similaity_score"
   ]
  },
  {
   "cell_type": "code",
   "execution_count": null,
   "id": "3ff21845",
   "metadata": {},
   "outputs": [],
   "source": []
  }
 ],
 "metadata": {
  "kernelspec": {
   "display_name": "Python 3 (ipykernel)",
   "language": "python",
   "name": "python3"
  },
  "language_info": {
   "codemirror_mode": {
    "name": "ipython",
    "version": 3
   },
   "file_extension": ".py",
   "mimetype": "text/x-python",
   "name": "python",
   "nbconvert_exporter": "python",
   "pygments_lexer": "ipython3",
   "version": "3.8.10"
  }
 },
 "nbformat": 4,
 "nbformat_minor": 5
}
